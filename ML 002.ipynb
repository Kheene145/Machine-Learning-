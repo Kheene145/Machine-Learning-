{
 "cells": [
  {
   "cell_type": "markdown",
   "id": "158832ce-6bb4-4fc7-b546-12d16133f9f4",
   "metadata": {},
   "source": [
    "## Machine Learning - Standard Deviation"
   ]
  },
  {
   "cell_type": "code",
   "execution_count": null,
   "id": "608fbc67-1cd4-4666-89d7-9517fd14ef49",
   "metadata": {},
   "outputs": [],
   "source": [
    "# Standard deviation is a number that describes how spread out the values are.\n",
    "\n",
    "# A low standard deviation means the most of the numbers are close to mean(average) value.\n",
    "\n",
    "# A high standard deviation means that the values are spread out over a wider range"
   ]
  },
  {
   "cell_type": "code",
   "execution_count": 3,
   "id": "a7cfe5c2-54c2-4eea-bd01-01965592c250",
   "metadata": {},
   "outputs": [
    {
     "name": "stdout",
     "output_type": "stream",
     "text": [
      "15.909411522743385\n"
     ]
    }
   ],
   "source": [
    "# use the Numpy std() method to find standard deviation:\n",
    "\n",
    "import numpy\n",
    "\n",
    "speed = [76, 89, 65, 98, 54, 92, 56, 87]\n",
    "\n",
    "x = numpy.std(speed)\n",
    "print(x)"
   ]
  },
  {
   "cell_type": "code",
   "execution_count": null,
   "id": "f5552735-cf09-4192-b517-8733a4438f19",
   "metadata": {},
   "outputs": [],
   "source": []
  },
  {
   "cell_type": "markdown",
   "id": "b729f9a3-6ef8-4ce3-80de-d3b6ff0fd55d",
   "metadata": {},
   "source": [
    "## Machine Learning- Variance"
   ]
  },
  {
   "cell_type": "code",
   "execution_count": null,
   "id": "a4e076c5-a741-414a-bad9-4abb383cc28f",
   "metadata": {},
   "outputs": [],
   "source": [
    "# It indicates how spread out the values are\n",
    "# The square root of variance is standard deviation or the multiplication of standard deviation by itself is variance."
   ]
  },
  {
   "cell_type": "code",
   "execution_count": null,
   "id": "d42fba36-2833-4cb1-a9f8-933f35a02fec",
   "metadata": {},
   "outputs": [],
   "source": [
    "# To calculate the variance, you have to do the following:\n",
    "# Find the mean, find the difference fron the mean, from each difference , find the square value. The variance is the average of,\n",
    "# of these squared differences."
   ]
  },
  {
   "cell_type": "code",
   "execution_count": 5,
   "id": "c823b117-8810-42b0-9f76-db4ab605df02",
   "metadata": {},
   "outputs": [
    {
     "name": "stdout",
     "output_type": "stream",
     "text": [
      "296.23999999999995\n"
     ]
    }
   ],
   "source": [
    "# For example.\n",
    "\n",
    "import numpy\n",
    "speed = [ 65, 98, 56, 76, 98, 67, 56, 45, 67, 88]\n",
    "\n",
    "x = numpy.var(speed)\n",
    "print(x)"
   ]
  },
  {
   "cell_type": "code",
   "execution_count": 7,
   "id": "a49b467f-17d8-45d8-aba8-6164a645a7c7",
   "metadata": {},
   "outputs": [
    {
     "name": "stdout",
     "output_type": "stream",
     "text": [
      "17.21162397916013\n"
     ]
    }
   ],
   "source": [
    "x = numpy.std(speed)\n",
    "print(x)"
   ]
  },
  {
   "cell_type": "code",
   "execution_count": null,
   "id": "c2b25cd4-ced5-468b-b53a-93522731e5c1",
   "metadata": {},
   "outputs": [],
   "source": []
  },
  {
   "cell_type": "code",
   "execution_count": null,
   "id": "c845849f-934b-42b0-ae10-6fb77368f2b7",
   "metadata": {},
   "outputs": [],
   "source": []
  },
  {
   "cell_type": "code",
   "execution_count": null,
   "id": "b17b1bb8-2459-4e22-ab72-6dc0da517f92",
   "metadata": {},
   "outputs": [],
   "source": []
  },
  {
   "cell_type": "code",
   "execution_count": null,
   "id": "471f608d-3fa2-40e3-b5c5-e4c1f5a5ce32",
   "metadata": {},
   "outputs": [],
   "source": []
  },
  {
   "cell_type": "code",
   "execution_count": null,
   "id": "63f64f80-7b37-433c-b265-bee62ef619dd",
   "metadata": {},
   "outputs": [],
   "source": []
  },
  {
   "cell_type": "code",
   "execution_count": null,
   "id": "726824f6-f9b8-4613-882b-8584e79dd54d",
   "metadata": {},
   "outputs": [],
   "source": []
  }
 ],
 "metadata": {
  "kernelspec": {
   "display_name": "Python 3 (ipykernel)",
   "language": "python",
   "name": "python3"
  },
  "language_info": {
   "codemirror_mode": {
    "name": "ipython",
    "version": 3
   },
   "file_extension": ".py",
   "mimetype": "text/x-python",
   "name": "python",
   "nbconvert_exporter": "python",
   "pygments_lexer": "ipython3",
   "version": "3.12.4"
  }
 },
 "nbformat": 4,
 "nbformat_minor": 5
}
