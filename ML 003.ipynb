{
 "cells": [
  {
   "cell_type": "markdown",
   "id": "01165ad6-a624-4d44-95c2-c9efc0bd3027",
   "metadata": {},
   "source": [
    "## Machine Learning- Percentiles "
   ]
  },
  {
   "cell_type": "code",
   "execution_count": null,
   "id": "e3ebf615-e6db-4119-b858-4b3513a3aa13",
   "metadata": {},
   "outputs": [],
   "source": [
    "# A percentile, a number denoting the position of a data point within a numeric dataset with a lesser value."
   ]
  },
  {
   "cell_type": "code",
   "execution_count": 4,
   "id": "5c0c7ee4-7581-42ef-80f2-cc3764990550",
   "metadata": {},
   "outputs": [],
   "source": [
    "import numpy"
   ]
  },
  {
   "cell_type": "code",
   "execution_count": 6,
   "id": "c7f54cdd-4714-465c-b1f2-82591f4be0d8",
   "metadata": {},
   "outputs": [
    {
     "name": "stdout",
     "output_type": "stream",
     "text": [
      "47.5\n"
     ]
    }
   ],
   "source": [
    "# For example\n",
    "ages = [5, 31, 33, 45, 31, 23, 23, 21, 20, 18, 10,15, 19,45, 50, 53, 35, 17, 34 , 76, 80, 67,72]\n",
    "\n",
    "x = numpy.percentile(ages, 75)\n",
    "print(x)"
   ]
  },
  {
   "cell_type": "code",
   "execution_count": 8,
   "id": "09b4ff80-ab00-4ffd-868b-e460feb50d00",
   "metadata": {},
   "outputs": [
    {
     "name": "stdout",
     "output_type": "stream",
     "text": [
      "71.0\n"
     ]
    }
   ],
   "source": [
    "# for example, what is the age that 90% of the people are younger than\n",
    "\n",
    "x = numpy.percentile(ages, 90)\n",
    "\n",
    "print(x)"
   ]
  },
  {
   "cell_type": "code",
   "execution_count": null,
   "id": "b01991ed-0575-46c2-a5cf-102f25e2f68e",
   "metadata": {},
   "outputs": [],
   "source": []
  },
  {
   "cell_type": "code",
   "execution_count": null,
   "id": "06649aa7-e395-413e-bd8f-a001a10da048",
   "metadata": {},
   "outputs": [],
   "source": []
  },
  {
   "cell_type": "code",
   "execution_count": null,
   "id": "8e84633b-226f-49dc-8bd0-f310b171f023",
   "metadata": {},
   "outputs": [],
   "source": []
  },
  {
   "cell_type": "code",
   "execution_count": null,
   "id": "6de43c3d-3616-4dd5-a8b2-2f2673fd2a40",
   "metadata": {},
   "outputs": [],
   "source": []
  },
  {
   "cell_type": "code",
   "execution_count": null,
   "id": "60174fe2-13da-40c0-91bd-5bd4acf23a26",
   "metadata": {},
   "outputs": [],
   "source": []
  },
  {
   "cell_type": "code",
   "execution_count": null,
   "id": "3337e3d1-c362-497d-b943-63eae6ab3c4a",
   "metadata": {},
   "outputs": [],
   "source": []
  }
 ],
 "metadata": {
  "kernelspec": {
   "display_name": "Python 3 (ipykernel)",
   "language": "python",
   "name": "python3"
  },
  "language_info": {
   "codemirror_mode": {
    "name": "ipython",
    "version": 3
   },
   "file_extension": ".py",
   "mimetype": "text/x-python",
   "name": "python",
   "nbconvert_exporter": "python",
   "pygments_lexer": "ipython3",
   "version": "3.12.4"
  }
 },
 "nbformat": 4,
 "nbformat_minor": 5
}
