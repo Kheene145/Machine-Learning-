{
 "cells": [
  {
   "cell_type": "code",
   "execution_count": 3,
   "id": "43ccf93e-7ae7-4547-89eb-3f539c40c60a",
   "metadata": {},
   "outputs": [],
   "source": [
    "import numpy\n",
    "import matplotlib.pyplot as plt\n",
    "from sklearn import metrics"
   ]
  },
  {
   "cell_type": "code",
   "execution_count": 13,
   "id": "edeaa310-874b-4e15-9286-f54b147a765f",
   "metadata": {},
   "outputs": [
    {
     "data": {
      "image/png": "[encoded data removed]",
      "text/plain": [
       "<Figure size 640x480 with 2 Axes>"
      ]
     },
     "metadata": {},
     "output_type": "display_data"
    }
   ],
   "source": [
    "actual = numpy.random.binomial(1, .9,size = 1000)\n",
    "\n",
    "predicted = numpy.random.binomial(1, .9,size = 1000)\n",
    "\n",
    "confusion_matrix = metrics.confusion_matrix(actual,predicted)\n",
    "\n",
    "cm_display = metrics.ConfusionMatrixDisplay(confusion_matrix = confusion_matrix, display_labels = [0,1])\n",
    "\n",
    "cm_display.plot()\n",
    "plt.show()"
   ]
  },
  {
   "cell_type": "markdown",
   "id": "1c0b54a6-fec7-4066-abd0-bd05eab128ec",
   "metadata": {},
   "source": [
    "## Accuracy"
   ]
  },
  {
   "cell_type": "code",
   "execution_count": null,
   "id": "69180b40-4f5f-462d-89ce-89e879d00169",
   "metadata": {},
   "outputs": [],
   "source": [
    "# Measures how oftern the model is correct\n",
    "\n",
    "# True Positive + True Negative / Total Predictions"
   ]
  },
  {
   "cell_type": "code",
   "execution_count": 15,
   "id": "fe361b70-91a6-425b-8cae-16519f8f3bfb",
   "metadata": {},
   "outputs": [],
   "source": [
    "accuracy = metrics.accuracy_score(actual,predicted)"
   ]
  },
  {
   "cell_type": "code",
   "execution_count": 17,
   "id": "7eadcfe0-a42c-40cb-8d00-4230a2aa6db0",
   "metadata": {},
   "outputs": [
    {
     "name": "stdout",
     "output_type": "stream",
     "text": [
      "0.82\n"
     ]
    }
   ],
   "source": [
    "print(accuracy)"
   ]
  },
  {
   "cell_type": "markdown",
   "id": "60b428e4-26b2-4016-bee1-f372db543234",
   "metadata": {},
   "source": [
    "## Precison"
   ]
  },
  {
   "cell_type": "code",
   "execution_count": null,
   "id": "fe6e93d4-19d5-4c95-8f22-558efe848683",
   "metadata": {},
   "outputs": [],
   "source": [
    "# True Positive / (True Positive + False Positive)\n",
    "\n",
    "# Nb precision does not evaluate the correctly predicted negative cases"
   ]
  },
  {
   "cell_type": "code",
   "execution_count": 21,
   "id": "3320eb5e-6002-4b3e-a542-6a5bee07b425",
   "metadata": {},
   "outputs": [
    {
     "name": "stdout",
     "output_type": "stream",
     "text": [
      "0.8939226519337017\n"
     ]
    }
   ],
   "source": [
    "precision = metrics.precision_score(actual,predicted)\n",
    "\n",
    "print(precision)"
   ]
  },
  {
   "cell_type": "markdown",
   "id": "6cb80163-fb2c-49f1-b744-b4e0eb293b55",
   "metadata": {},
   "source": [
    "## Sensitivity (Recall)"
   ]
  },
  {
   "cell_type": "code",
   "execution_count": 27,
   "id": "ba9ad011-cf50-4f2f-b97e-729860ca5dfe",
   "metadata": {},
   "outputs": [],
   "source": [
    "# It measure how good the model is at predicting positives\n",
    "\n",
    "# True Positive/ (True Positive + False Negative)"
   ]
  },
  {
   "cell_type": "code",
   "execution_count": 33,
   "id": "40a97da4-ad78-401e-bbd3-e3fa4507d48f",
   "metadata": {},
   "outputs": [
    {
     "name": "stdout",
     "output_type": "stream",
     "text": [
      "0.9059350503919373\n"
     ]
    }
   ],
   "source": [
    "Sensitivity = metrics.recall_score(actual, predicted)\n",
    "\n",
    "print(Sensitivity)"
   ]
  },
  {
   "cell_type": "markdown",
   "id": "20f7a39f-692f-4bba-a291-a2905db49874",
   "metadata": {},
   "source": [
    "## Specificity"
   ]
  },
  {
   "cell_type": "code",
   "execution_count": 36,
   "id": "803bac70-3896-4d56-9763-3501e56925a3",
   "metadata": {},
   "outputs": [],
   "source": [
    "# How well the model is at predicting negative results\n",
    "\n",
    "# Specificity is similiar to sensitivity, but looks at it from the perspective of negative results\n",
    "\n",
    "# True Negative/ ( True negative + False Positive("
   ]
  },
  {
   "cell_type": "code",
   "execution_count": 42,
   "id": "cc60ce7c-b30e-4a1b-881f-08394b52a4af",
   "metadata": {},
   "outputs": [
    {
     "name": "stdout",
     "output_type": "stream",
     "text": [
      "0.102803738317757\n"
     ]
    }
   ],
   "source": [
    "specificity = metrics.recall_score(actual, predicted, pos_label=0)\n",
    "\n",
    "print(specificity)"
   ]
  },
  {
   "cell_type": "markdown",
   "id": "088374eb-3ef6-4711-b2b0-ce895f94571c",
   "metadata": {},
   "source": [
    "## F-Score"
   ]
  },
  {
   "cell_type": "code",
   "execution_count": 45,
   "id": "12c9762d-379d-4128-8ce2-e40b029bef01",
   "metadata": {},
   "outputs": [],
   "source": [
    "# f-score is the \"harmonic mean\" of precision and sensitivity.\n",
    "\n",
    "# It considers both false positive and false negative cases and is good for imbalnced datasets\n",
    "\n",
    "# * ((Precision * Sensitivity) / (Precision + Sensitivity))\n",
    "\n",
    "# This score does not take into consideration the True Negative values:\n"
   ]
  },
  {
   "cell_type": "code",
   "execution_count": 49,
   "id": "0a808ca2-41d9-40ec-bb1e-0a2d0ac7636f",
   "metadata": {},
   "outputs": [
    {
     "name": "stdout",
     "output_type": "stream",
     "text": [
      "0.899888765294772\n"
     ]
    }
   ],
   "source": [
    "F1_score = metrics.f1_score(actual, predicted)\n",
    "\n",
    "print(F1_score)"
   ]
  },
  {
   "cell_type": "code",
   "execution_count": null,
   "id": "2793eafe-f92c-4796-9af7-347c96599f86",
   "metadata": {},
   "outputs": [],
   "source": []
  },
  {
   "cell_type": "code",
   "execution_count": null,
   "id": "057d720b-7447-4bc4-88ea-ac7da089b659",
   "metadata": {},
   "outputs": [],
   "source": []
  },
  {
   "cell_type": "code",
   "execution_count": null,
   "id": "5fdc7c31-427c-4ce0-955b-d2b458289eab",
   "metadata": {},
   "outputs": [],
   "source": []
  }
 ],
 "metadata": {
  "kernelspec": {
   "display_name": "Python 3 (ipykernel)",
   "language": "python",
   "name": "python3"
  },
  "language_info": {
   "codemirror_mode": {
    "name": "ipython",
    "version": 3
   },
   "file_extension": ".py",
   "mimetype": "text/x-python",
   "name": "python",
   "nbconvert_exporter": "python",
   "pygments_lexer": "ipython3",
   "version": "3.12.4"
  }
 },
 "nbformat": 4,
 "nbformat_minor": 5
}
