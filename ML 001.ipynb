{
 "cells": [
  {
   "cell_type": "markdown",
   "id": "62a339fa-1ce0-42f0-9647-c68720a86bed",
   "metadata": {},
   "source": [
    "### Day 001 of ML"
   ]
  },
  {
   "cell_type": "code",
   "execution_count": null,
   "id": "17db6c6b-ec00-45ca-9e74-1107b47a7953",
   "metadata": {},
   "outputs": [],
   "source": [
    "# Machine Learning- Mean, Median, Mode\n",
    "\n",
    "# Use the numpy mean(0 to find average speed.\n"
   ]
  },
  {
   "cell_type": "code",
   "execution_count": 5,
   "id": "a9313b6c-c812-4850-aad3-15a46bf36d13",
   "metadata": {},
   "outputs": [
    {
     "name": "stdout",
     "output_type": "stream",
     "text": [
      "92.0\n"
     ]
    }
   ],
   "source": [
    "import numpy\n",
    "\n",
    "speed = [78, 90, 76, 45, 98, 23, 78, 87,125, 145, 76, 67, 149, 65, 94, 176]\n",
    "\n",
    "x = numpy.mean(speed)\n",
    "\n",
    "print(x)"
   ]
  },
  {
   "cell_type": "code",
   "execution_count": 7,
   "id": "0b1a17d5-e5de-4549-8956-1df09862ece0",
   "metadata": {},
   "outputs": [
    {
     "name": "stdout",
     "output_type": "stream",
     "text": [
      "92.0\n"
     ]
    }
   ],
   "source": [
    "x = numpy.median(x)\n",
    "print(x)"
   ]
  },
  {
   "cell_type": "code",
   "execution_count": 11,
   "id": "0d4d735e-1963-436f-b173-15c25257398b",
   "metadata": {},
   "outputs": [],
   "source": [
    "# use SciPy mode() to find the mode. numpy do not have mode function."
   ]
  },
  {
   "cell_type": "code",
   "execution_count": 13,
   "id": "a79bd04e-5b89-451c-bb02-688773d41602",
   "metadata": {},
   "outputs": [],
   "source": [
    "from scipy import stats"
   ]
  },
  {
   "cell_type": "code",
   "execution_count": 15,
   "id": "e52ff80a-f74e-4c44-88e8-05a088fa6478",
   "metadata": {},
   "outputs": [
    {
     "name": "stdout",
     "output_type": "stream",
     "text": [
      "ModeResult(mode=76, count=2)\n"
     ]
    }
   ],
   "source": [
    "x = stats.mode(speed)\n",
    "print(x)"
   ]
  },
  {
   "cell_type": "code",
   "execution_count": null,
   "id": "c7a31acc-c580-49a6-8d39-a75641cdefad",
   "metadata": {},
   "outputs": [],
   "source": []
  }
 ],
 "metadata": {
  "kernelspec": {
   "display_name": "Python 3 (ipykernel)",
   "language": "python",
   "name": "python3"
  },
  "language_info": {
   "codemirror_mode": {
    "name": "ipython",
    "version": 3
   },
   "file_extension": ".py",
   "mimetype": "text/x-python",
   "name": "python",
   "nbconvert_exporter": "python",
   "pygments_lexer": "ipython3",
   "version": "3.12.4"
  }
 },
 "nbformat": 4,
 "nbformat_minor": 5
}
